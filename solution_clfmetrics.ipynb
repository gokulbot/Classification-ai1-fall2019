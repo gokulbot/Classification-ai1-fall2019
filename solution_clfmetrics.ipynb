{
 "cells": [
  {
   "cell_type": "markdown",
   "metadata": {},
   "source": [
    "# Classification, Probabilities, and the Confusion Matrix"
   ]
  },
  {
   "cell_type": "code",
   "execution_count": 1,
   "metadata": {},
   "outputs": [
    {
     "name": "stderr",
     "output_type": "stream",
     "text": [
      "//anaconda/envs/py3l/lib/python3.6/site-packages/matplotlib/__init__.py:855: MatplotlibDeprecationWarning: \n",
      "examples.directory is deprecated; in the future, examples will be found relative to the 'datapath' directory.\n",
      "  \"found relative to the 'datapath' directory.\".format(key))\n",
      "//anaconda/envs/py3l/lib/python3.6/site-packages/matplotlib/__init__.py:846: MatplotlibDeprecationWarning: \n",
      "The text.latex.unicode rcparam was deprecated in Matplotlib 2.2 and will be removed in 3.1.\n",
      "  \"2.2\", name=key, obj_type=\"rcparam\", addendum=addendum)\n"
     ]
    }
   ],
   "source": [
    "%matplotlib inline\n",
    "import numpy as np\n",
    "import scipy as sp\n",
    "import matplotlib as mpl\n",
    "import matplotlib.cm as cm\n",
    "import matplotlib.pyplot as plt\n",
    "import pandas as pd\n",
    "import seaborn.apionly as sns"
   ]
  },
  {
   "cell_type": "markdown",
   "metadata": {},
   "source": [
    "We are going to encapsulate some code into handy-dandy functions that we can use for easier model training using cross-validation"
   ]
  },
  {
   "cell_type": "code",
   "execution_count": 2,
   "metadata": {
    "collapsed": true
   },
   "outputs": [],
   "source": [
    "from sklearn.model_selection import GridSearchCV\n",
    "from sklearn.model_selection import train_test_split\n",
    "from sklearn.metrics import confusion_matrix\n",
    "def cv_optimize(clf, parameters, X, y, n_jobs=1, n_folds=5, score_func=None):\n",
    "    if score_func:\n",
    "        gs = GridSearchCV(clf, param_grid=parameters, cv=n_folds, n_jobs=n_jobs, scoring=score_func)\n",
    "    else:\n",
    "        gs = GridSearchCV(clf, param_grid=parameters, n_jobs=n_jobs, cv=n_folds)\n",
    "    gs.fit(X, y)\n",
    "    print(\"BEST\", gs.best_params_, gs.best_score_)\n",
    "    best = gs.best_estimator_\n",
    "    return best\n",
    "def do_classify(clf, parameters, indf, featurenames, targetname, target1val,mode=\"mask\", reuse_split=None, score_func=None, n_folds=5, n_jobs=1):\n",
    "    \"\"\"\n",
    "    Classification made simple (or is it more complex?)\n",
    "    THIS WORKS FOR 2 Class Classification problems only\n",
    "    parameters: parameter grid in the sklearn style\n",
    "    indf: dataframe you feed in\n",
    "    featurenames: list of columnames corresponding to features you want in your model\n",
    "    targetname: the column you want to use as target\n",
    "    target1val: the value of the \"targetname\" column\n",
    "    mode: mask or split. mask a boolean mask to choose train/test or\n",
    "        split a dictionary with keys Xtrain/Xtest/ytrain/ytest and values existing\n",
    "        training and test sets in the canonical form\n",
    "    reuse_split: the actual mask above or the actuall ditionary, depending upon which\n",
    "        modu you chose\n",
    "    score_func: this is from GridSearchCV\n",
    "    n_folds: cross val folds\n",
    "    n_jobs: mumber of processes to use in cross-validation\n",
    "    \n",
    "    We return classifier, and the train and test sets. We print accuracies\n",
    "    and the confusion matrix\n",
    "    \"\"\"\n",
    "    subdf=indf[featurenames]\n",
    "    X=subdf.values\n",
    "    y=(indf[targetname].values==target1val)*1\n",
    "    if mode==\"mask\":\n",
    "        print(\"using mask\")\n",
    "        mask=reuse_split\n",
    "        Xtrain, Xtest, ytrain, ytest = X[mask], X[~mask], y[mask], y[~mask]\n",
    "    else:\n",
    "        print(\"using reuse split\")\n",
    "        Xtrain, Xtest, ytrain, ytest = reuse_split['Xtrain'], reuse_split['Xtest'], reuse_split['ytrain'], reuse_split['ytest']\n",
    "    if parameters:\n",
    "        clf = cv_optimize(clf, parameters, Xtrain, ytrain, n_jobs=n_jobs, n_folds=n_folds, score_func=score_func)\n",
    "    clf=clf.fit(Xtrain, ytrain)\n",
    "    training_accuracy = clf.score(Xtrain, ytrain)\n",
    "    test_accuracy = clf.score(Xtest, ytest)\n",
    "    print(\"############# based on standard predict ################\")\n",
    "    print(\"Accuracy on training data: %0.2f\" % (training_accuracy))\n",
    "    print(\"Accuracy on test data:     %0.2f\" % (test_accuracy))\n",
    "    print(confusion_matrix(ytest, clf.predict(Xtest)))\n",
    "    print(\"########################################################\")\n",
    "    return clf, Xtrain, ytrain, Xtest, ytest"
   ]
  },
  {
   "cell_type": "code",
   "execution_count": 3,
   "metadata": {
    "collapsed": true
   },
   "outputs": [],
   "source": [
    "from matplotlib.colors import ListedColormap\n",
    "cmap_light = ListedColormap(['#FFAAAA', '#AAFFAA', '#AAAAFF'])\n",
    "cmap_bold = ListedColormap(['#FF0000', '#00FF00', '#0000FF'])\n",
    "cm = plt.cm.RdBu\n",
    "cm_bright = ListedColormap(['#FF0000', '#0000FF'])\n",
    "\n",
    "def points_plot(ax, Xtr, Xte, ytr, yte, clf, mesh=True, colorscale=cmap_light, cdiscrete=cmap_bold, alpha=0.3, psize=10, zfunc=False):\n",
    "    h = .02\n",
    "    X=np.concatenate((Xtr, Xte))\n",
    "    x_min, x_max = X[:, 0].min() - .5, X[:, 0].max() + .5\n",
    "    y_min, y_max = X[:, 1].min() - .5, X[:, 1].max() + .5\n",
    "    xx, yy = np.meshgrid(np.linspace(x_min, x_max, 100),\n",
    "                         np.linspace(y_min, y_max, 100))\n",
    "\n",
    "    #plt.figure(figsize=(10,6))\n",
    "    if mesh:\n",
    "        if zfunc:\n",
    "            p0 = clf.predict_proba(np.c_[xx.ravel(), yy.ravel()])[:, 0]\n",
    "            p1 = clf.predict_proba(np.c_[xx.ravel(), yy.ravel()])[:, 1]\n",
    "            Z=zfunc(p0, p1)\n",
    "        else:\n",
    "            Z = clf.predict(np.c_[xx.ravel(), yy.ravel()])\n",
    "        Z = Z.reshape(xx.shape)\n",
    "        plt.pcolormesh(xx, yy, Z, cmap=cmap_light, alpha=alpha, axes=ax)\n",
    "    ax.scatter(Xtr[:, 0], Xtr[:, 1], c=ytr-1, cmap=cmap_bold, s=psize, alpha=alpha,edgecolor=\"k\")\n",
    "    # and testing points\n",
    "    yact=clf.predict(Xte)\n",
    "    ax.scatter(Xte[:, 0], Xte[:, 1], c=yte-1, cmap=cmap_bold, alpha=alpha, marker=\"s\", s=psize+10)\n",
    "    ax.set_xlim(xx.min(), xx.max())\n",
    "    ax.set_ylim(yy.min(), yy.max())\n",
    "    return ax,xx,yy"
   ]
  },
  {
   "cell_type": "code",
   "execution_count": 4,
   "metadata": {
    "collapsed": true
   },
   "outputs": [],
   "source": [
    "def points_plot_prob(ax, Xtr, Xte, ytr, yte, clf, colorscale=cmap_light, cdiscrete=cmap_bold, ccolor=cm, psize=10, alpha=0.1, prob=True):\n",
    "    ax,xx,yy = points_plot(ax, Xtr, Xte, ytr, yte, clf, mesh=False, colorscale=colorscale, cdiscrete=cdiscrete, psize=psize, alpha=alpha) \n",
    "    if prob:\n",
    "        Z = clf.predict_proba(np.c_[xx.ravel(), yy.ravel()])[:, 1]\n",
    "    else:\n",
    "        Z = clf.decision_function(np.c_[xx.ravel(), yy.ravel()])\n",
    "    Z = Z.reshape(xx.shape)\n",
    "    plt.contourf(xx, yy, Z, cmap=ccolor, alpha=.2, axes=ax)\n",
    "    cs2 = plt.contour(xx, yy, Z, cmap=ccolor, alpha=.6, axes=ax)\n",
    "    plt.clabel(cs2, fmt = '%2.1f', colors = 'k', fontsize=14)\n",
    "    return ax "
   ]
  },
  {
   "cell_type": "markdown",
   "metadata": {},
   "source": [
    "## Setting up the data\n",
    "\n",
    "(I encountered this dataset in Conway, Drew, and John White. Machine learning for hackers. \" O'Reilly Media, Inc.\", 2012.)"
   ]
  },
  {
   "cell_type": "code",
   "execution_count": 5,
   "metadata": {},
   "outputs": [
    {
     "data": {
      "text/html": [
       "<div>\n",
       "<style scoped>\n",
       "    .dataframe tbody tr th:only-of-type {\n",
       "        vertical-align: middle;\n",
       "    }\n",
       "\n",
       "    .dataframe tbody tr th {\n",
       "        vertical-align: top;\n",
       "    }\n",
       "\n",
       "    .dataframe thead th {\n",
       "        text-align: right;\n",
       "    }\n",
       "</style>\n",
       "<table border=\"1\" class=\"dataframe\">\n",
       "  <thead>\n",
       "    <tr style=\"text-align: right;\">\n",
       "      <th></th>\n",
       "      <th>Gender</th>\n",
       "      <th>Height</th>\n",
       "      <th>Weight</th>\n",
       "    </tr>\n",
       "  </thead>\n",
       "  <tbody>\n",
       "    <tr>\n",
       "      <th>0</th>\n",
       "      <td>Male</td>\n",
       "      <td>73.847017</td>\n",
       "      <td>241.893563</td>\n",
       "    </tr>\n",
       "    <tr>\n",
       "      <th>1</th>\n",
       "      <td>Male</td>\n",
       "      <td>68.781904</td>\n",
       "      <td>162.310473</td>\n",
       "    </tr>\n",
       "    <tr>\n",
       "      <th>2</th>\n",
       "      <td>Male</td>\n",
       "      <td>74.110105</td>\n",
       "      <td>212.740856</td>\n",
       "    </tr>\n",
       "    <tr>\n",
       "      <th>3</th>\n",
       "      <td>Male</td>\n",
       "      <td>71.730978</td>\n",
       "      <td>220.042470</td>\n",
       "    </tr>\n",
       "    <tr>\n",
       "      <th>4</th>\n",
       "      <td>Male</td>\n",
       "      <td>69.881796</td>\n",
       "      <td>206.349801</td>\n",
       "    </tr>\n",
       "  </tbody>\n",
       "</table>\n",
       "</div>"
      ],
      "text/plain": [
       "  Gender     Height      Weight\n",
       "0   Male  73.847017  241.893563\n",
       "1   Male  68.781904  162.310473\n",
       "2   Male  74.110105  212.740856\n",
       "3   Male  71.730978  220.042470\n",
       "4   Male  69.881796  206.349801"
      ]
     },
     "execution_count": 5,
     "metadata": {},
     "output_type": "execute_result"
    }
   ],
   "source": [
    "dfhw=pd.read_csv(\"data/01_heights_weights_genders.csv\")\n",
    "dfhw.head()"
   ]
  },
  {
   "cell_type": "markdown",
   "metadata": {},
   "source": [
    "We sample 500 points from 10,000, since we actually want to see trends clearly on the plots"
   ]
  },
  {
   "cell_type": "code",
   "execution_count": 6,
   "metadata": {},
   "outputs": [
    {
     "data": {
      "text/plain": [
       "259"
      ]
     },
     "execution_count": 6,
     "metadata": {},
     "output_type": "execute_result"
    }
   ],
   "source": [
    "df=dfhw.sample(500, replace=False)\n",
    "np.sum(df.Gender==\"Male\")"
   ]
  },
  {
   "cell_type": "markdown",
   "metadata": {},
   "source": [
    "We split the data into training and test sets...and setup a mask so we can reuse these splits later"
   ]
  },
  {
   "cell_type": "code",
   "execution_count": 8,
   "metadata": {},
   "outputs": [
    {
     "name": "stderr",
     "output_type": "stream",
     "text": [
      "//anaconda/envs/py3l/lib/python3.6/site-packages/sklearn/model_selection/_split.py:2179: FutureWarning: From version 0.21, test_size will always complement train_size unless both are specified.\n",
      "  FutureWarning)\n"
     ]
    },
    {
     "data": {
      "text/plain": [
       "array([ True, False,  True, False,  True,  True,  True,  True,  True,\n",
       "       False])"
      ]
     },
     "execution_count": 8,
     "metadata": {},
     "output_type": "execute_result"
    }
   ],
   "source": [
    "itrain, itest = train_test_split(range(df.shape[0]), train_size=0.6)\n",
    "mask=np.ones(df.shape[0], dtype='int')\n",
    "mask[itrain]=1\n",
    "mask[itest]=0\n",
    "mask = (mask==1)\n",
    "mask[:10]"
   ]
  },
  {
   "cell_type": "markdown",
   "metadata": {},
   "source": [
    "## Logistic regression\n",
    "\n",
    "\n",
    "$$\n",
    "\\renewcommand{\\like}{{\\cal L}}\n",
    "\\renewcommand{\\loglike}{{\\ell}}\n",
    "\\renewcommand{\\err}{{\\cal E}}\n",
    "\\renewcommand{\\dat}{{\\cal D}}\n",
    "\\renewcommand{\\hyp}{{\\cal H}}\n",
    "\\renewcommand{\\Ex}[2]{E_{#1}[#2]}\n",
    "\\renewcommand{\\x}{{\\mathbf x}}\n",
    "\\renewcommand{\\v}[1]{{\\mathbf #1}}\n",
    "$$\n",
    "\n",
    "\n",
    "Previously, we saw the loss for Logistic regression and noted that it is a loss for probability estimation...and not a loss for making decisions. We'll go into these dual losses soon..\n",
    "\n",
    "$$R_{\\cal{D}}(h(x)) = -\\loglike = -log \\like = - log(P(y|\\v{x},\\v{w})).$$\n",
    "\n",
    "\n",
    "Thus\n",
    "\n",
    "\\begin{eqnarray*}\n",
    "R_{\\cal{D}}(h(x)) &=& -log\\left(\\prod_{y_i \\in \\cal{D}} h(\\v{w}\\cdot\\v{x_i})^{y_i} \\left(1 - h(\\v{w}\\cdot\\v{x_i}) \\right)^{(1-y_i)}\\right)\\\\\n",
    "                  &=& -\\sum_{y_i \\in \\cal{D}} log\\left(h(\\v{w}\\cdot\\v{x_i})^{y_i} \\left(1 - h(\\v{w}\\cdot\\v{x_i}) \\right)^{(1-y_i)}\\right)\\\\                  \n",
    "                  &=& -\\sum_{y_i \\in \\cal{D}} log\\,h(\\v{w}\\cdot\\v{x_i})^{y_i} + log\\,\\left(1 - h(\\v{w}\\cdot\\v{x_i}) \\right)^{(1-y_i)}\\\\\n",
    "                  &=& - \\sum_{y_i \\in \\cal{D}} \\left ( y_i log(h(\\v{w}\\cdot\\v{x})) + ( 1 - y_i) log(1 - h(\\v{w}\\cdot\\v{x})) \\right )\n",
    "\\end{eqnarray*}\n",
    "\n",
    "where\n",
    "\n",
    "$$h(z) = \\frac{1}{1 + e^{-z}}.$$\n",
    "\n"
   ]
  },
  {
   "cell_type": "markdown",
   "metadata": {},
   "source": [
    "Notice that its L2 regularized.... by default"
   ]
  },
  {
   "cell_type": "code",
   "execution_count": 9,
   "metadata": {},
   "outputs": [
    {
     "name": "stdout",
     "output_type": "stream",
     "text": [
      "using mask\n",
      "BEST {'C': 0.001} 0.9266666666666666\n",
      "############# based on standard predict ################\n",
      "Accuracy on training data: 0.93\n",
      "Accuracy on test data:     0.90\n",
      "[[95 10]\n",
      " [11 84]]\n",
      "########################################################\n"
     ]
    }
   ],
   "source": [
    "from sklearn.linear_model import LogisticRegression\n",
    "parameters = {\"C\": [0.001, 0.01, 0.1, 1, 10, 100, 1000, 10000]}\n",
    "clflog = LogisticRegression(solver='lbfgs')\n",
    "clflog, Xtrain, ytrain, Xtest, ytest=do_classify(clflog, parameters, df, ['Height','Weight'],'Gender', \"Male\", mode=\"mask\", reuse_split=mask)"
   ]
  },
  {
   "cell_type": "markdown",
   "metadata": {},
   "source": [
    "In `sklearn`, `clf.predict(test_data)` makes predictions on the assumption that a 0.5 probability threshold is the appropriate thing to do. Make predictions on the test set"
   ]
  },
  {
   "cell_type": "code",
   "execution_count": 11,
   "metadata": {},
   "outputs": [
    {
     "data": {
      "text/plain": [
       "array([0, 0, 1, 1, 0, 1, 0, 0, 0, 1, 1, 0, 0, 0, 0, 1, 0, 0, 0, 0, 0, 0,\n",
       "       0, 1, 0, 1, 0, 0, 0, 0, 0, 0, 0, 0, 1, 0, 1, 1, 0, 1, 1, 0, 0, 0,\n",
       "       1, 1, 0, 1, 1, 0, 1, 0, 0, 1, 1, 1, 1, 0, 0, 1, 1, 1, 0, 0, 1, 0,\n",
       "       1, 0, 1, 0, 0, 0, 1, 0, 1, 0, 1, 0, 0, 1, 1, 0, 0, 1, 0, 1, 0, 0,\n",
       "       1, 1, 1, 1, 1, 1, 0, 1, 1, 1, 0, 0, 1, 1, 0, 0, 1, 0, 1, 0, 1, 1,\n",
       "       0, 0, 0, 1, 1, 0, 0, 0, 0, 0, 0, 0, 1, 1, 1, 1, 0, 0, 0, 1, 1, 1,\n",
       "       0, 0, 0, 0, 1, 1, 0, 0, 1, 1, 1, 1, 1, 0, 0, 0, 0, 0, 0, 1, 0, 1,\n",
       "       0, 0, 1, 1, 1, 1, 1, 1, 1, 1, 0, 1, 0, 1, 0, 1, 0, 0, 1, 0, 1, 1,\n",
       "       0, 1, 0, 1, 1, 1, 1, 0, 1, 1, 0, 1, 1, 0, 0, 0, 1, 0, 0, 1, 0, 1,\n",
       "       0, 0])"
      ]
     },
     "execution_count": 11,
     "metadata": {},
     "output_type": "execute_result"
    }
   ],
   "source": [
    "# your code here\n",
    "clflog.predict(Xtest)"
   ]
  },
  {
   "cell_type": "markdown",
   "metadata": {},
   "source": [
    "In `sklearn`, `predict_proba` gives us the probabilities. Find the probabilities on the test set."
   ]
  },
  {
   "cell_type": "code",
   "execution_count": 12,
   "metadata": {},
   "outputs": [
    {
     "data": {
      "text/plain": [
       "array([[8.32744285e-01, 1.67255715e-01],\n",
       "       [9.85684401e-01, 1.43155989e-02],\n",
       "       [7.02093277e-02, 9.29790672e-01],\n",
       "       [6.31231271e-04, 9.99368769e-01],\n",
       "       [8.79449211e-01, 1.20550789e-01],\n",
       "       [4.27914032e-01, 5.72085968e-01],\n",
       "       [9.97887754e-01, 2.11224650e-03],\n",
       "       [5.79008977e-01, 4.20991023e-01],\n",
       "       [9.95962176e-01, 4.03782423e-03],\n",
       "       [2.13109635e-03, 9.97868904e-01],\n",
       "       [2.74694341e-02, 9.72530566e-01],\n",
       "       [9.82538301e-01, 1.74616988e-02],\n",
       "       [9.76629924e-01, 2.33700764e-02],\n",
       "       [9.34012034e-01, 6.59879661e-02],\n",
       "       [8.68178682e-01, 1.31821318e-01],\n",
       "       [3.86834285e-02, 9.61316571e-01],\n",
       "       [8.33938888e-01, 1.66061112e-01],\n",
       "       [9.95419090e-01, 4.58091029e-03],\n",
       "       [5.41787989e-01, 4.58212011e-01],\n",
       "       [9.97850294e-01, 2.14970572e-03],\n",
       "       [7.34683221e-01, 2.65316779e-01],\n",
       "       [9.56761794e-01, 4.32382058e-02],\n",
       "       [9.90125959e-01, 9.87404107e-03],\n",
       "       [1.14008618e-02, 9.88599138e-01],\n",
       "       [9.12732728e-01, 8.72672723e-02],\n",
       "       [5.33565508e-02, 9.46643449e-01],\n",
       "       [5.37050263e-01, 4.62949737e-01],\n",
       "       [9.96651518e-01, 3.34848175e-03],\n",
       "       [9.71712965e-01, 2.82870351e-02],\n",
       "       [6.36415663e-01, 3.63584337e-01],\n",
       "       [9.85091990e-01, 1.49080099e-02],\n",
       "       [9.55988225e-01, 4.40117749e-02],\n",
       "       [8.92149713e-01, 1.07850287e-01],\n",
       "       [9.86374333e-01, 1.36256668e-02],\n",
       "       [1.12537906e-01, 8.87462094e-01],\n",
       "       [9.97300772e-01, 2.69922825e-03],\n",
       "       [5.02420699e-02, 9.49757930e-01],\n",
       "       [2.08361535e-02, 9.79163847e-01],\n",
       "       [9.55126553e-01, 4.48734474e-02],\n",
       "       [1.19438005e-02, 9.88056200e-01],\n",
       "       [1.31907982e-01, 8.68092018e-01],\n",
       "       [9.07940028e-01, 9.20599719e-02],\n",
       "       [9.98739636e-01, 1.26036365e-03],\n",
       "       [6.96631744e-01, 3.03368256e-01],\n",
       "       [4.09343565e-01, 5.90656435e-01],\n",
       "       [2.98658755e-01, 7.01341245e-01],\n",
       "       [9.81227634e-01, 1.87723664e-02],\n",
       "       [1.37809884e-03, 9.98621901e-01],\n",
       "       [1.24601502e-02, 9.87539850e-01],\n",
       "       [9.73468136e-01, 2.65318639e-02],\n",
       "       [4.01239355e-01, 5.98760645e-01],\n",
       "       [9.79952702e-01, 2.00472980e-02],\n",
       "       [8.58005733e-01, 1.41994267e-01],\n",
       "       [4.90067523e-02, 9.50993248e-01],\n",
       "       [1.24546524e-01, 8.75453476e-01],\n",
       "       [2.82948618e-03, 9.97170514e-01],\n",
       "       [1.31692412e-01, 8.68307588e-01],\n",
       "       [8.35722370e-01, 1.64277630e-01],\n",
       "       [9.78163915e-01, 2.18360848e-02],\n",
       "       [1.53523572e-02, 9.84647643e-01],\n",
       "       [1.08008004e-04, 9.99891992e-01],\n",
       "       [1.97808520e-02, 9.80219148e-01],\n",
       "       [9.43990231e-01, 5.60097689e-02],\n",
       "       [9.83617974e-01, 1.63820259e-02],\n",
       "       [5.25818356e-03, 9.94741816e-01],\n",
       "       [9.88883402e-01, 1.11165981e-02],\n",
       "       [2.30942041e-02, 9.76905796e-01],\n",
       "       [8.70028232e-01, 1.29971768e-01],\n",
       "       [1.92357952e-01, 8.07642048e-01],\n",
       "       [9.98864274e-01, 1.13572597e-03],\n",
       "       [9.89996976e-01, 1.00030239e-02],\n",
       "       [9.79307989e-01, 2.06920107e-02],\n",
       "       [3.03099369e-02, 9.69690063e-01],\n",
       "       [9.84794209e-01, 1.52057914e-02],\n",
       "       [6.28561766e-03, 9.93714382e-01],\n",
       "       [9.29280186e-01, 7.07198139e-02],\n",
       "       [2.93377169e-01, 7.06622831e-01],\n",
       "       [9.89408639e-01, 1.05913614e-02],\n",
       "       [9.54718697e-01, 4.52813026e-02],\n",
       "       [5.32155584e-03, 9.94678444e-01],\n",
       "       [1.97037307e-02, 9.80296269e-01],\n",
       "       [9.95607833e-01, 4.39216722e-03],\n",
       "       [9.88665886e-01, 1.13341138e-02],\n",
       "       [1.28344430e-02, 9.87165557e-01],\n",
       "       [9.72060484e-01, 2.79395164e-02],\n",
       "       [2.31643949e-04, 9.99768356e-01],\n",
       "       [9.10520319e-01, 8.94796813e-02],\n",
       "       [9.11182669e-01, 8.88173312e-02],\n",
       "       [2.16154416e-01, 7.83845584e-01],\n",
       "       [1.24668207e-02, 9.87533179e-01],\n",
       "       [9.13854037e-03, 9.90861460e-01],\n",
       "       [2.51571838e-01, 7.48428162e-01],\n",
       "       [3.75695453e-02, 9.62430455e-01],\n",
       "       [4.35838542e-01, 5.64161458e-01],\n",
       "       [9.75819027e-01, 2.41809730e-02],\n",
       "       [5.36308103e-03, 9.94636919e-01],\n",
       "       [2.01284202e-02, 9.79871580e-01],\n",
       "       [9.24553591e-02, 9.07544641e-01],\n",
       "       [9.98913714e-01, 1.08628629e-03],\n",
       "       [8.09945901e-01, 1.90054099e-01],\n",
       "       [3.06740766e-04, 9.99693259e-01],\n",
       "       [2.70153376e-01, 7.29846624e-01],\n",
       "       [9.59831652e-01, 4.01683479e-02],\n",
       "       [6.75428546e-01, 3.24571454e-01],\n",
       "       [1.47038274e-02, 9.85296173e-01],\n",
       "       [8.80599862e-01, 1.19400138e-01],\n",
       "       [5.67848518e-03, 9.94321515e-01],\n",
       "       [6.77437160e-01, 3.22562840e-01],\n",
       "       [3.66774274e-02, 9.63322573e-01],\n",
       "       [2.98267534e-01, 7.01732466e-01],\n",
       "       [9.91227285e-01, 8.77271484e-03],\n",
       "       [9.96475398e-01, 3.52460167e-03],\n",
       "       [8.76855770e-01, 1.23144230e-01],\n",
       "       [3.01319629e-03, 9.96986804e-01],\n",
       "       [5.07091140e-02, 9.49290886e-01],\n",
       "       [5.14260145e-01, 4.85739855e-01],\n",
       "       [5.96929329e-01, 4.03070671e-01],\n",
       "       [8.19955624e-01, 1.80044376e-01],\n",
       "       [6.00043930e-01, 3.99956070e-01],\n",
       "       [9.62973028e-01, 3.70269719e-02],\n",
       "       [9.99242695e-01, 7.57304945e-04],\n",
       "       [6.66634754e-01, 3.33365246e-01],\n",
       "       [3.03620742e-02, 9.69637926e-01],\n",
       "       [1.19498533e-01, 8.80501467e-01],\n",
       "       [3.53995805e-01, 6.46004195e-01],\n",
       "       [2.95646635e-02, 9.70435336e-01],\n",
       "       [8.59356069e-01, 1.40643931e-01],\n",
       "       [9.73167267e-01, 2.68327327e-02],\n",
       "       [9.83402762e-01, 1.65972377e-02],\n",
       "       [9.79303945e-03, 9.90206961e-01],\n",
       "       [5.43487743e-02, 9.45651226e-01],\n",
       "       [1.31149961e-01, 8.68850039e-01],\n",
       "       [9.97975735e-01, 2.02426513e-03],\n",
       "       [8.97528166e-01, 1.02471834e-01],\n",
       "       [9.75690931e-01, 2.43090693e-02],\n",
       "       [6.94650738e-01, 3.05349262e-01],\n",
       "       [7.03863761e-03, 9.92961362e-01],\n",
       "       [4.87004182e-01, 5.12995818e-01],\n",
       "       [8.70993981e-01, 1.29006019e-01],\n",
       "       [7.88353352e-01, 2.11646648e-01],\n",
       "       [1.78429172e-02, 9.82157083e-01],\n",
       "       [2.57917960e-01, 7.42082040e-01],\n",
       "       [1.06624629e-01, 8.93375371e-01],\n",
       "       [8.36760496e-03, 9.91632395e-01],\n",
       "       [3.46285146e-02, 9.65371485e-01],\n",
       "       [9.99521128e-01, 4.78871883e-04],\n",
       "       [9.99522539e-01, 4.77461196e-04],\n",
       "       [9.53122164e-01, 4.68778360e-02],\n",
       "       [9.91830034e-01, 8.16996555e-03],\n",
       "       [6.04749269e-01, 3.95250731e-01],\n",
       "       [9.98415445e-01, 1.58455506e-03],\n",
       "       [9.11044819e-03, 9.90889552e-01],\n",
       "       [9.73420304e-01, 2.65796959e-02],\n",
       "       [4.79894008e-02, 9.52010599e-01],\n",
       "       [7.98605333e-01, 2.01394667e-01],\n",
       "       [8.97637581e-01, 1.02362419e-01],\n",
       "       [3.57072026e-01, 6.42927974e-01],\n",
       "       [1.47139028e-01, 8.52860972e-01],\n",
       "       [1.63847146e-02, 9.83615285e-01],\n",
       "       [4.73884595e-01, 5.26115405e-01],\n",
       "       [1.56928814e-01, 8.43071186e-01],\n",
       "       [8.04070977e-02, 9.19592902e-01],\n",
       "       [4.76646683e-01, 5.23353317e-01],\n",
       "       [1.09825941e-02, 9.89017406e-01],\n",
       "       [9.78329690e-01, 2.16703102e-02],\n",
       "       [3.27107478e-01, 6.72892522e-01],\n",
       "       [9.12689272e-01, 8.73107276e-02],\n",
       "       [2.07076148e-03, 9.97929239e-01],\n",
       "       [9.78403314e-01, 2.15966858e-02],\n",
       "       [4.18098555e-01, 5.81901445e-01],\n",
       "       [9.90579883e-01, 9.42011738e-03],\n",
       "       [5.74485351e-01, 4.25514649e-01],\n",
       "       [3.16881993e-02, 9.68311801e-01],\n",
       "       [9.43331640e-01, 5.66683595e-02],\n",
       "       [8.27355393e-03, 9.91726446e-01],\n",
       "       [2.15114166e-01, 7.84885834e-01],\n",
       "       [7.60235179e-01, 2.39764821e-01],\n",
       "       [1.10693521e-01, 8.89306479e-01],\n",
       "       [9.09297767e-01, 9.07022327e-02],\n",
       "       [5.10259056e-02, 9.48974094e-01],\n",
       "       [1.60546689e-02, 9.83945331e-01],\n",
       "       [4.35631599e-01, 5.64368401e-01],\n",
       "       [1.91201372e-01, 8.08798628e-01],\n",
       "       [9.88368534e-01, 1.16314663e-02],\n",
       "       [1.98842821e-01, 8.01157179e-01],\n",
       "       [3.30462324e-01, 6.69537676e-01],\n",
       "       [9.92925459e-01, 7.07454140e-03],\n",
       "       [7.27789748e-03, 9.92722103e-01],\n",
       "       [6.06343884e-02, 9.39365612e-01],\n",
       "       [8.57778310e-01, 1.42221690e-01],\n",
       "       [9.85699718e-01, 1.43002824e-02],\n",
       "       [9.98950537e-01, 1.04946272e-03],\n",
       "       [4.32720592e-01, 5.67279408e-01],\n",
       "       [9.41066169e-01, 5.89338308e-02],\n",
       "       [9.98304491e-01, 1.69550923e-03],\n",
       "       [2.85461726e-01, 7.14538274e-01],\n",
       "       [9.92846798e-01, 7.15320204e-03],\n",
       "       [1.33044981e-02, 9.86695502e-01],\n",
       "       [9.92906031e-01, 7.09396918e-03],\n",
       "       [6.19812230e-01, 3.80187770e-01]])"
      ]
     },
     "execution_count": 12,
     "metadata": {},
     "output_type": "execute_result"
    }
   ],
   "source": [
    "clflog.predict_proba(Xtest)"
   ]
  },
  {
   "cell_type": "markdown",
   "metadata": {},
   "source": [
    "What do these probabilities correspond to? The second column (`[:,1]` in numpy parlance, google numpy indexing to understand the syntax) gives the probability that the sample is a 1 (or +ive), here Male.\n",
    "\n",
    "Make a histogram of these probabilities. Interpret them."
   ]
  },
  {
   "cell_type": "code",
   "execution_count": 27,
   "metadata": {},
   "outputs": [
    {
     "data": {
      "image/png": "[encoded data removed]",
      "text/plain": [
       "<Figure size 432x288 with 1 Axes>"
      ]
     },
     "metadata": {},
     "output_type": "display_data"
    }
   ],
   "source": [
    "# your code here\n",
    "plt.hist(clflog.predict_proba(Xtest)[:,1]*100);"
   ]
  },
  {
   "cell_type": "markdown",
   "metadata": {},
   "source": [
    "Lots of sure females and sure males when you plot the probability of being a male. \n",
    "\n",
    "At this point you might want to see how this histogram looks in the 2 dimensional space of our predictors."
   ]
  },
  {
   "cell_type": "code",
   "execution_count": 13,
   "metadata": {},
   "outputs": [
    {
     "data": {
      "image/png": "[encoded data removed]",
      "text/plain": [
       "<Figure size 432x288 with 1 Axes>"
      ]
     },
     "metadata": {},
     "output_type": "display_data"
    }
   ],
   "source": [
    "Xtr=np.concatenate((Xtrain, Xtest))\n",
    "plt.figure()\n",
    "ax=plt.gca()\n",
    "with sns.plotting_context('poster'):\n",
    "    points_plot(ax, Xtrain, Xtest, ytrain, ytest, clflog);"
   ]
  },
  {
   "cell_type": "markdown",
   "metadata": {},
   "source": [
    "We can plot the probability contours: these are rather tight!"
   ]
  },
  {
   "cell_type": "code",
   "execution_count": 14,
   "metadata": {},
   "outputs": [
    {
     "name": "stderr",
     "output_type": "stream",
     "text": [
      "//anaconda/envs/py3l/lib/python3.6/site-packages/matplotlib/contour.py:1000: UserWarning: The following kwargs were not used by contour: 'axes'\n",
      "  s)\n"
     ]
    },
    {
     "data": {
      "image/png": "[encoded data removed]",
      "text/plain": [
       "<Figure size 432x288 with 1 Axes>"
      ]
     },
     "metadata": {},
     "output_type": "display_data"
    }
   ],
   "source": [
    "plt.figure()\n",
    "ax=plt.gca()\n",
    "points_plot(ax, Xtrain, Xtest, ytrain, ytest, clflog, mesh=False, alpha=0.001);\n",
    "points_plot_prob(ax, Xtrain, Xtest, ytrain, ytest, clflog);"
   ]
  },
  {
   "cell_type": "markdown",
   "metadata": {},
   "source": [
    "The score function of the estimator is used to evaluate a parameter setting. These are the sklearn.metrics.accuracy_score for classification and sklearn.metrics.r2_score for regression. For some applications, other scoring functions are better suited (for example in unbalanced classification, the accuracy score is often uninformative). We can pass other scorers to `GridSearchCV`."
   ]
  },
  {
   "cell_type": "code",
   "execution_count": 2,
   "metadata": {},
   "outputs": [
    {
     "ename": "NameError",
     "evalue": "name 'clflog' is not defined",
     "output_type": "error",
     "traceback": [
      "\u001b[1;31m---------------------------------------------------------------------------\u001b[0m",
      "\u001b[1;31mNameError\u001b[0m                                 Traceback (most recent call last)",
      "\u001b[1;32m<ipython-input-2-c9bf4d20d4e1>\u001b[0m in \u001b[0;36m<module>\u001b[1;34m\u001b[0m\n\u001b[1;32m----> 1\u001b[1;33m \u001b[0mclflog\u001b[0m\u001b[1;33m.\u001b[0m\u001b[0mscore\u001b[0m\u001b[1;33m(\u001b[0m\u001b[0mXtest\u001b[0m\u001b[1;33m,\u001b[0m \u001b[0mytest\u001b[0m\u001b[1;33m)\u001b[0m\u001b[1;33m\u001b[0m\u001b[1;33m\u001b[0m\u001b[0m\n\u001b[0m",
      "\u001b[1;31mNameError\u001b[0m: name 'clflog' is not defined"
     ]
    }
   ],
   "source": [
    "clflog.score(Xtest, ytest)"
   ]
  },
  {
   "cell_type": "markdown",
   "metadata": {},
   "source": [
    "## The confusion Matrix"
   ]
  },
  {
   "cell_type": "markdown",
   "metadata": {},
   "source": [
    " A classifier will get some samples right, and some wrong. Generally we see which ones it gets right and which ones it gets wrong on the test set. There,\n",
    "\n",
    "- the samples that are +ive and the classifier predicts as +ive are called True Positives (TP)\n",
    "- the samples that are -ive and the classifier predicts (wrongly) as +ive are called False Positives (FP)\n",
    "- the samples that are -ive and the classifier predicts as -ive are called True Negatives (TN)\n",
    "- the samples that are +ive and the classifier predicts as -ive are called False Negatives (FN)\n",
    "\n",
    "A classifier produces a confusion matrix from these which lookslike this:\n",
    "\n",
    "![hwimages](./images/confusionmatrix.png)\n",
    "\n",
    "\n",
    "IMPORTANT NOTE: In sklearn, to obtain the confusion matrix in the form above, always have the observed `y` first, i.e.: use as `confusion_matrix(y_true, y_pred)`"
   ]
  },
  {
   "cell_type": "code",
   "execution_count": 31,
   "metadata": {},
   "outputs": [
    {
     "data": {
      "text/plain": [
       "array([[81, 13],\n",
       "       [ 8, 98]])"
      ]
     },
     "execution_count": 31,
     "metadata": {},
     "output_type": "execute_result"
    }
   ],
   "source": [
    "confusion_matrix(ytest, clflog.predict(Xtest))"
   ]
  },
  {
   "cell_type": "markdown",
   "metadata": {},
   "source": [
    "Given these definitions, we typically calculate a few metrics for our classifier. First, the **True Positive Rate**:\n",
    "\n",
    "$$TPR = Recall = \\frac{TP}{OP} = \\frac{TP}{TP+FN},$$\n",
    "\n",
    "also called the Hit Rate: the fraction of observed positives (1s) the classifier gets right, or how many true positives were recalled. Maximizing the recall towards 1 means keeping down the false negative rate. In a classifier try to find cancer patients, this is the number we want to maximize.\n",
    "\n",
    "The **False Positive Rate** is defined as\n",
    "\n",
    "$$FPR = \\frac{FP}{ON} = \\frac{FP}{FP+TN},$$\n",
    "\n",
    "also called the False Alarm Rate, the fraction of observed negatives (0s) the classifier gets wrong. In general, you want this number to be low. Instead, you might want to maximize the\n",
    "**Precision**,which tells you how many of the predicted positive(1) hits were truly positive\n",
    "\n",
    "$$Precision = \\frac{TP}{PP} = \\frac{TP}{TP+FP}.$$\n",
    "\n",
    "Finally the **F1** score gives us the Harmonic Score of Precision and Recall. Many analysts will try and find a classifier that maximizes this score, since it tries to minimize both false positives and false negatives simultaneously, and is thus a bit more precise in what it is trying to do than the accuracy.\n",
    "\n",
    "$$F1 =  \\frac{2*Recall*Precision}{Recall + Precision}$$\n",
    "\n",
    "However, in a case like that of a cancer classifier, we will wish to minimize false nagatives at the expense of false positives: it is ok to send perfectly healthy patients for cancer folloup if that is the price we must pay for not missing any sick ones.\n",
    "\n",
    "`scikit-learn` helpfully gives us a classification report with all these numbers"
   ]
  },
  {
   "cell_type": "code",
   "execution_count": 32,
   "metadata": {},
   "outputs": [
    {
     "name": "stdout",
     "output_type": "stream",
     "text": [
      "              precision    recall  f1-score   support\n",
      "\n",
      "           0       0.91      0.86      0.89        94\n",
      "           1       0.88      0.92      0.90       106\n",
      "\n",
      "   micro avg       0.90      0.90      0.90       200\n",
      "   macro avg       0.90      0.89      0.89       200\n",
      "weighted avg       0.90      0.90      0.89       200\n",
      "\n"
     ]
    }
   ],
   "source": [
    "from sklearn.metrics import classification_report\n",
    "print(classification_report(ytest, clflog.predict(Xtest)))"
   ]
  },
  {
   "cell_type": "markdown",
   "metadata": {},
   "source": [
    "#### The cancer doctor\n",
    "\n",
    "Do you really want to be setting a threshold of 0.5 probability to predict if a patient has cancer or not? The false negative problem: ie the chance you predict someone dosent have cancer who has cancer is much higher for such a threshold. You could kill someone by telling them not to get a biopsy. Why not play it safe and assume a much lower threshold: for eg, if the probability of 1(cancer) is greater than 0.05, we'll call it a 1.\n",
    "\n",
    "Write a function `t_repredict(est,t, Xtest)` which takes your classifier, a probability threshold, and a  features set in the canonical form, and returns a set of predictions."
   ]
  },
  {
   "cell_type": "code",
   "execution_count": 15,
   "metadata": {
    "collapsed": true
   },
   "outputs": [],
   "source": [
    "# your code here\n",
    "def t_repredict(est,t, Xtest):\n",
    "    probs=est.predict_proba(Xtest)\n",
    "    p0 = probs[:,0]\n",
    "    p1 = probs[:,1]\n",
    "    ypred = (p1 > t)*1\n",
    "    return ypred"
   ]
  },
  {
   "cell_type": "markdown",
   "metadata": {},
   "source": [
    "Print the confusion matrix to see how the false negatives get suppressed?"
   ]
  },
  {
   "cell_type": "code",
   "execution_count": 1,
   "metadata": {},
   "outputs": [
    {
     "ename": "NameError",
     "evalue": "name 'confusion_matrix' is not defined",
     "output_type": "error",
     "traceback": [
      "\u001b[1;31m---------------------------------------------------------------------------\u001b[0m",
      "\u001b[1;31mNameError\u001b[0m                                 Traceback (most recent call last)",
      "\u001b[1;32m<ipython-input-1-baa41736a040>\u001b[0m in \u001b[0;36m<module>\u001b[1;34m\u001b[0m\n\u001b[0;32m      1\u001b[0m \u001b[1;31m# your code here\u001b[0m\u001b[1;33m\u001b[0m\u001b[1;33m\u001b[0m\u001b[1;33m\u001b[0m\u001b[0m\n\u001b[1;32m----> 2\u001b[1;33m \u001b[0mconfusion_matrix\u001b[0m\u001b[1;33m(\u001b[0m\u001b[0mytest\u001b[0m\u001b[1;33m,\u001b[0m \u001b[0mt_repredict\u001b[0m\u001b[1;33m(\u001b[0m\u001b[0mclflog\u001b[0m\u001b[1;33m,\u001b[0m \u001b[1;36m0.1\u001b[0m\u001b[1;33m,\u001b[0m \u001b[0mXtest\u001b[0m\u001b[1;33m)\u001b[0m\u001b[1;33m)\u001b[0m\u001b[1;33m\u001b[0m\u001b[1;33m\u001b[0m\u001b[0m\n\u001b[0m",
      "\u001b[1;31mNameError\u001b[0m: name 'confusion_matrix' is not defined"
     ]
    }
   ],
   "source": [
    "# your code here\n",
    "confusion_matrix(ytest, t_repredict(clflog, 0.1, Xtest))"
   ]
  }
 ],
 "metadata": {
  "kernelspec": {
   "display_name": "Python 3",
   "language": "python",
   "name": "python3"
  },
  "language_info": {
   "codemirror_mode": {
    "name": "ipython",
    "version": 3
   },
   "file_extension": ".py",
   "mimetype": "text/x-python",
   "name": "python",
   "nbconvert_exporter": "python",
   "pygments_lexer": "ipython3",
   "version": "3.7.3"
  }
 },
 "nbformat": 4,
 "nbformat_minor": 2
}
